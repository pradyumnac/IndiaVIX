{
 "cells": [
  {
   "cell_type": "markdown",
   "metadata": {},
   "source": [
    "# Indiavix"
   ]
  },
  {
   "cell_type": "code",
   "execution_count": 1,
   "metadata": {},
   "outputs": [],
   "source": [
    "import requests\n",
    "import pandas as pd\n",
    "from lxml import html\n",
    "from io import StringIO\n",
    "from datetime import datetime as dt, timedelta\n",
    "from IPython.display import Markdown, display\n",
    "from tabulate import tabulate"
   ]
  },
  {
   "cell_type": "code",
   "execution_count": 2,
   "metadata": {},
   "outputs": [],
   "source": [
    "def get_vix(oprn_dt):\n",
    "    today_str = (oprn_dt).strftime(\"%d-%b-%Y\")\n",
    "    oneyearago_str = (oprn_dt+timedelta(days=-364)).strftime(\"%d-%b-%Y\")\n",
    "    url = f\"https://www.nseindia.com/products/dynaContent/equities/indices/hist_vix_data.jsp?&fromDate={oneyearago_str}&toDate={today_str}\"\n",
    "    res = requests.get(url)\n",
    "    print(\"Operation status: \", url, res.status_code)\n",
    "    tree = html.fromstring(res.text)\n",
    "    csvdata = tree.xpath(r'//*[@id=\"csvContentDiv\"]')[0].text\n",
    "    df = pd.read_csv(StringIO(csvdata), lineterminator =\":\")\n",
    "    df.columns = [i.strip() for i  in df.columns]\n",
    "#     print(df.columns)\n",
    "    df['Pct Rank']=df['% Change'].rank(pct=True)\n",
    "    df['Close Rank']=df['Close'].rank(pct=True)\n",
    "    \n",
    "    pct_stats = {\n",
    "        \"pct_mean\"                : df['% Change'].mean(),\n",
    "        \"pct_median\"              : df['% Change'].median(), \n",
    "        \"pct_std\"                 : df['% Change'].std(),\n",
    "        \"pct_q10\"                 :df['% Change'].quantile(0.1),\n",
    "        \"pct_q90\"                 : df['% Change'].quantile(0.9),\n",
    "        \"pct_lastpercentilescore\" : df['Pct Rank'].iloc[-1:].values[0]*100\n",
    "    }\n",
    "    \n",
    "    close_stats = {\n",
    "        \"close_mean\"                : df['Close'].mean(),\n",
    "        \"close_median\"              : df['Close'].median(), \n",
    "        \"close_std\"                 : df['Close'].std(),\n",
    "        \"close_q10\"                 : df['Close'].quantile(0.1),\n",
    "        \"close_q90\"                 : df['Close'].quantile(0.9),\n",
    "        \"close_lastpercentilescore\" : df['Close Rank'].iloc[-1:].values[0]*100\n",
    "    }\n",
    "    \n",
    "    return df, pct_stats, close_stats"
   ]
  },
  {
   "cell_type": "code",
   "execution_count": 3,
   "metadata": {},
   "outputs": [],
   "source": [
    "report_md_str=''\n",
    "def add_to_report(string):\n",
    "    global report_md_str\n",
    "#     display(Markdown(string))\n",
    "    report_md_str+=string+\"  \\n\"\n",
    "    \n",
    "def prepare_report(df, pct_stats, close_stats):\n",
    "    global report_md_str\n",
    "    report_md_str = ''\n",
    "    add_to_report('## Last 5 Day volatility Details:  ')\n",
    "    add_to_report('---  ')\n",
    "    add_to_report(tabulate(df.iloc[-5:].set_index('Date'), tablefmt=\"pipe\", headers=\"keys\")+\"  \\n  \\n\")\n",
    "    add_to_report('---  ')\n",
    "    add_to_report('## History of Closing Volatility:  ')\n",
    "    add_to_report('**Mean:** {0:.2f},  **Median:** {1:.2f},  **Standard Deviation:** {2:.2f},  **Quantile 10%:** {3:.2f},  **Quantile 90%:** {4:.2f}  '.format(close_stats['close_mean'], close_stats['close_median'], close_stats['close_std'], close_stats['close_q10'], close_stats['close_q90']))\n",
    "    add_to_report('Percentile Rank of **Close Vol**: {:.2f}%'.format(close_stats['close_lastpercentilescore']))\n",
    "    add_to_report('  \\n---  ')\n",
    "    add_to_report('## History of % Change in Volatility:  ')\n",
    "    add_to_report('**Mean:** {0:.2f},  **Median:** {1:.2f},  **Standard Deviation:** {2:.2f},  **Quantile 10%:** {3:.2f},  **Quantile 90%:** {4:.2f}  '.format(pct_stats['pct_mean'], pct_stats['pct_median'], pct_stats['pct_std'], pct_stats['pct_q10'], pct_stats['pct_q90']))\n",
    "    add_to_report('Percentile Rank of **% Change**: {:.2f}%'.format(pct_stats['pct_lastpercentilescore']))\n",
    "    return report_md_str\n",
    "\n",
    "\n",
    "def save_report(report, date_str):\n",
    "    with open(f\"reports/{date_str}.md\",'w') as f:\n",
    "        f.write(report)\n"
   ]
  },
  {
   "cell_type": "code",
   "execution_count": 4,
   "metadata": {},
   "outputs": [],
   "source": [
    "def get_vix_today():\n",
    "    today = dt.now() # Not supported while market is open\n",
    "    yesterday = today+timedelta(days=-1)\n",
    "    df, pct_stats, close_stats = get_vix(yesterday)\n",
    "    report = prepare_report(df, pct_stats, close_stats)\n",
    "#     save_report(report,  yesterday.strftime(\"%d-%b-%Y\"))\n",
    "    return df, pct_stats, close_stats, report, yesterday.strftime(\"%d-%b-%Y\")"
   ]
  },
  {
   "cell_type": "code",
   "execution_count": 5,
   "metadata": {},
   "outputs": [
    {
     "name": "stdout",
     "output_type": "stream",
     "text": [
      "Operation status:  https://www.nseindia.com/products/dynaContent/equities/indices/hist_vix_data.jsp?&fromDate=25-Sep-2018&toDate=24-Sep-2019 200\n"
     ]
    },
    {
     "data": {
      "text/markdown": [
       "## Last 5 Day volatility Details:    \n",
       "---    \n",
       "| Date        |    Open |    High |     Low |   Close |   Prev. Close |   Change |   % Change |   Pct Rank |   Close Rank |\n",
       "|:------------|--------:|--------:|--------:|--------:|--------------:|---------:|-----------:|-----------:|-------------:|\n",
       "| 18-Sep-2019 | 16.0175 | 16.1875 | 13.905  | 15.3525 |       16.0175 |    -0.67 |      -4.15 |   0.126531 |     0.246939 |\n",
       "| 19-Sep-2019 | 15.3525 | 15.965  | 14.1775 | 15.55   |       15.3525 |     0.2  |       1.29 |   0.636735 |     0.279592 |\n",
       "| 20-Sep-2019 | 15.55   | 17.045  | 13.8275 | 15.4    |       15.55   |    -0.15 |      -0.96 |   0.404082 |     0.261224 |\n",
       "| 23-Sep-2019 | 15.4    | 17.64   | 14.21   | 16.7925 |       15.4    |     1.39 |       9.04 |   0.946939 |     0.542857 |\n",
       "| 24-Sep-2019 | 16.7925 | 18.5325 | 15.8975 | 16.7325 |       16.7925 |    -0.06 |      -0.36 |   0.493878 |     0.526531 |  \n",
       "  \n",
       "  \n",
       "---    \n",
       "## History of Closing Volatility:    \n",
       "**Mean:** 17.36,  **Median:** 16.63,  **Standard Deviation:** 3.27,  **Quantile 10%:** 14.12,  **Quantile 90%:** 21.27    \n",
       "Percentile Rank of **Close Vol**: 52.65%  \n",
       "  \n",
       "---    \n",
       "## History of % Change in Volatility:    \n",
       "**Mean:** 0.12,  **Median:** -0.30,  **Standard Deviation:** 5.22,  **Quantile 10%:** -4.89,  **Quantile 90%:** 6.71    \n",
       "Percentile Rank of **% Change**: 49.39%  \n"
      ],
      "text/plain": [
       "<IPython.core.display.Markdown object>"
      ]
     },
     "metadata": {},
     "output_type": "display_data"
    }
   ],
   "source": [
    "df, pct_stats, close_stats, report, yesterday_str = get_vix_today()\n",
    "display(Markdown(report))"
   ]
  },
  {
   "cell_type": "code",
   "execution_count": 6,
   "metadata": {},
   "outputs": [],
   "source": [
    "def create_post(report, date_str):\n",
    "    modified_on = dt.now().strftime(\"%Y-%m-%d %H:%M\")\n",
    "    post = f'''Title: Volatility Report: {date_str}\n",
    "Date: {modified_on}\n",
    "Modified: {modified_on}\n",
    "Category: VolReport\n",
    "Tags: indiavix, {date_str}\n",
    "Slug: {date_str} Report \n",
    "Authors: IndiaVIX AutoUpdator\n",
    "Summary: Volatility Report updates for {date_str}.\n",
    "\n",
    "{report}'''\n",
    "    \n",
    "    with open(f\"content/{date_str}.md\",'w') as f:\n",
    "        f.write(post)\n",
    "        \n",
    "create_post(report, yesterday_str)\n",
    "print(\"Post Created\")"
   ]
  }
 ],
 "metadata": {
  "kernelspec": {
   "display_name": "Python 3",
   "language": "python",
   "name": "python3"
  },
  "language_info": {
   "codemirror_mode": {
    "name": "ipython",
    "version": 3
   },
   "file_extension": ".py",
   "mimetype": "text/x-python",
   "name": "python",
   "nbconvert_exporter": "python",
   "pygments_lexer": "ipython3",
   "version": "3.7.3"
  },
  "varInspector": {
   "cols": {
    "lenName": 16,
    "lenType": 16,
    "lenVar": 40
   },
   "kernels_config": {
    "python": {
     "delete_cmd_postfix": "",
     "delete_cmd_prefix": "del ",
     "library": "var_list.py",
     "varRefreshCmd": "print(var_dic_list())"
    },
    "r": {
     "delete_cmd_postfix": ") ",
     "delete_cmd_prefix": "rm(",
     "library": "var_list.r",
     "varRefreshCmd": "cat(var_dic_list()) "
    }
   },
   "types_to_exclude": [
    "module",
    "function",
    "builtin_function_or_method",
    "instance",
    "_Feature"
   ],
   "window_display": true
  }
 },
 "nbformat": 4,
 "nbformat_minor": 2
}
